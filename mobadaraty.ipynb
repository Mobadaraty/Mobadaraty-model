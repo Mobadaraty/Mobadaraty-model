{
  "nbformat": 4,
  "nbformat_minor": 0,
  "metadata": {
    "colab": {
      "provenance": []
    },
    "kernelspec": {
      "name": "python3",
      "display_name": "Python 3"
    },
    "language_info": {
      "name": "python"
    }
  },
  "cells": [
    {
      "cell_type": "code",
      "source": [
        "import pandas as pd\n",
        "\n",
        "\n",
        "df = pd.read_json('volunteers.json')\n",
        "\n",
        "print(df.head())\n"
      ],
      "metadata": {
        "colab": {
          "base_uri": "https://localhost:8080/"
        },
        "id": "fcEnfjo8QzO4",
        "outputId": "372e2fda-befc-4a7d-fe8f-09642f48d41d"
      },
      "execution_count": 264,
      "outputs": [
        {
          "output_type": "stream",
          "name": "stdout",
          "text": [
            "                volunteerID volunteerType                      skills  \\\n",
            "0  67d4c5dca1f55e61aa451467   independent     [Cooking, Organization]   \n",
            "1  67d4c5e1a1f55e61aa45146a   independent  [Cleaning, Transportation]   \n",
            "2  67d4c5e4a1f55e61aa45146d   independent      [Shopping, Decorating]   \n",
            "3  67d4c5e8a1f55e61aa451470   independent     [Organization, Cooking]   \n",
            "4  67d4c5f7a1f55e61aa451474   independent  [Transportation, Cleaning]   \n",
            "\n",
            "                              coordinates  \n",
            "0  [36.70901855428611, 3.035187264594328]  \n",
            "1   [36.7032681700125, 3.062822889022711]  \n",
            "2  [36.79008200929335, 3.055245863225224]  \n",
            "3   [36.7587619603616, 3.030851620410438]  \n",
            "4  [36.75407606788928, 3.068509714610707]  \n"
          ]
        }
      ]
    },
    {
      "cell_type": "code",
      "source": [],
      "metadata": {
        "id": "_Wz9ZEQWQ2l4"
      },
      "execution_count": 264,
      "outputs": []
    },
    {
      "cell_type": "code",
      "source": [
        "# List all possible skills in your dataset\n",
        "skills_list = [\"Cooking\", \"Organization\", \"Cleaning\", \"Transportation\", \"Decorating\", \"Shopping\"]\n",
        "\n",
        "# One-hot encode the skills for each volunteer\n",
        "for skill in skills_list:\n",
        "    df[skill] = df['skills'].apply(lambda x: 1 if skill in x else 0)\n",
        "\n",
        "# Check the updated dataframe\n",
        "print(df.head())\n"
      ],
      "metadata": {
        "colab": {
          "base_uri": "https://localhost:8080/"
        },
        "id": "Juo8hpAzRO4R",
        "outputId": "a90e219b-8308-424d-f05c-97153cc7e1bd"
      },
      "execution_count": 265,
      "outputs": [
        {
          "output_type": "stream",
          "name": "stdout",
          "text": [
            "                volunteerID volunteerType                      skills  \\\n",
            "0  67d4c5dca1f55e61aa451467   independent     [Cooking, Organization]   \n",
            "1  67d4c5e1a1f55e61aa45146a   independent  [Cleaning, Transportation]   \n",
            "2  67d4c5e4a1f55e61aa45146d   independent      [Shopping, Decorating]   \n",
            "3  67d4c5e8a1f55e61aa451470   independent     [Organization, Cooking]   \n",
            "4  67d4c5f7a1f55e61aa451474   independent  [Transportation, Cleaning]   \n",
            "\n",
            "                              coordinates  Cooking  Organization  Cleaning  \\\n",
            "0  [36.70901855428611, 3.035187264594328]        1             1         0   \n",
            "1   [36.7032681700125, 3.062822889022711]        0             0         1   \n",
            "2  [36.79008200929335, 3.055245863225224]        0             0         0   \n",
            "3   [36.7587619603616, 3.030851620410438]        1             1         0   \n",
            "4  [36.75407606788928, 3.068509714610707]        0             0         1   \n",
            "\n",
            "   Transportation  Decorating  Shopping  \n",
            "0               0           0         0  \n",
            "1               1           0         0  \n",
            "2               0           1         1  \n",
            "3               0           0         0  \n",
            "4               1           0         0  \n"
          ]
        }
      ]
    },
    {
      "cell_type": "code",
      "source": [
        "import pandas as pd\n",
        "import json\n",
        "from sklearn.cluster import KMeans\n",
        "\n",
        "\n",
        "\n",
        "\n",
        "initial_clusters = 15\n",
        "kmeans = KMeans(n_clusters=initial_clusters, random_state=42)\n",
        "df['cluster'] = kmeans.fit_predict(X)\n"
      ],
      "metadata": {
        "id": "FpkBeaGZcGdX"
      },
      "execution_count": 266,
      "outputs": []
    },
    {
      "cell_type": "code",
      "source": [
        "\n",
        "\n",
        "\n",
        "def distribute_volunteers(df, clusters):\n",
        "    teams = []\n",
        "    group_number = 1  # To label each team with a number\n",
        "\n",
        "    while len(df) > 0:  # Continue until all volunteers are assigned\n",
        "        cluster_groups = df.groupby('cluster')  # Group by clusters\n",
        "        cluster_dict = {cluster: group for cluster, group in cluster_groups}\n",
        "\n",
        "        team = []\n",
        "        empty_clusters = set()  # Track empty clusters\n",
        "\n",
        "        # Loop through each cluster and pick one volunteer (if available)\n",
        "        for cluster, group in cluster_dict.items():\n",
        "            if len(group) > 0:\n",
        "                selected_volunteer = group.iloc[0]\n",
        "                team.append(selected_volunteer)\n",
        "                df = df.drop(selected_volunteer.name)  # Remove from df\n",
        "            else:\n",
        "                empty_clusters.add(cluster)\n",
        "\n",
        "        if team:\n",
        "            group_data = {\"group_name\": f\"Group {group_number}\", \"volunteers\": []}\n",
        "            for volunteer in team:\n",
        "                group_data[\"volunteers\"].append({\n",
        "                    \"volunteerID\": volunteer['volunteerID'],\n",
        "                    \"skills\": volunteer['skills'],\n",
        "                    \"cluster\": int(volunteer['cluster'])\n",
        "                })\n",
        "            teams.append(group_data)\n",
        "            group_number += 1\n",
        "\n",
        "        # If any clusters are empty, re-run clustering with remaining data\n",
        "        if empty_clusters and len(df) > 0:\n",
        "            new_clusters = max(2, len(df) // 5)  # Adjust cluster count dynamically\n",
        "            kmeans = KMeans(n_clusters=new_clusters, random_state=42)\n",
        "            df['cluster'] = kmeans.fit_predict(df.drop(columns=['cluster'], errors='ignore'))\n",
        "\n",
        "    return teams\n",
        "\n",
        "# Run the distribution function\n",
        "teams = distribute_volunteers(df, initial_clusters)\n",
        "\n",
        "# Save the teams to JSON\n",
        "with open('volunteer_teams.json', 'w') as f:\n",
        "    json.dump(teams, f, indent=4)\n",
        "\n",
        "print(\"Balanced volunteer teams have been written to volunteer_teams.json\")"
      ],
      "metadata": {
        "colab": {
          "base_uri": "https://localhost:8080/"
        },
        "id": "AUL-qqeUZKsU",
        "outputId": "969e370e-a1f9-47c7-ab15-45001ff44575"
      },
      "execution_count": 267,
      "outputs": [
        {
          "output_type": "stream",
          "name": "stdout",
          "text": [
            "Balanced volunteer teams have been written to volunteer_teams.json\n"
          ]
        }
      ]
    },
    {
      "cell_type": "code",
      "source": [
        "import pandas as pd\n",
        "import json\n",
        "import matplotlib.pyplot as plt\n",
        "from sklearn.cluster import KMeans\n",
        "from sklearn.metrics import silhouette_score\n",
        "import numpy as np\n",
        "\n",
        "# Load your data\n",
        "df1 = pd.read_json(\"volunteers.json\")\n",
        "\n",
        "# List all possible skills in your dataset\n",
        "skills_list = [\"Cooking\", \"Organization\", \"Cleaning\", \"Transportation\", \"Decorating\", \"Shopping\"]\n",
        "\n",
        "# One-hot encode the skills for each volunteer\n",
        "for skill in skills_list:\n",
        "    df1[skill] = df1['skills'].apply(lambda x: 1 if skill in x else 0)\n",
        "\n",
        "# Drop non-numeric columns (Ensure only numerical values are used)\n",
        "df1 = df1.drop(columns=[\"skills\", \"volunteerID\"], errors=\"ignore\")\n",
        "\n",
        "# Ensure all data is numeric\n",
        "df1 = df1.select_dtypes(include=[\"number\"])\n",
        "\n",
        "\n",
        "\n",
        "# Apply K-Means clustering\n",
        "kmeans = KMeans(n_clusters=initial_clusters, random_state=42)\n",
        "df1[\"cluster\"] = kmeans.fit_predict(df1)\n",
        "\n",
        "\n",
        "\n",
        "\n"
      ],
      "metadata": {
        "id": "H4cgUhpNbBrr"
      },
      "execution_count": 268,
      "outputs": []
    },
    {
      "cell_type": "code",
      "source": [
        "# ✅ **1. Compute Precision (Silhouette Score)**\n",
        "silhouette = silhouette_score(df1.drop(columns=[\"cluster\"]), df1[\"cluster\"])\n",
        "print(f\"📊 Silhouette Score: {silhouette}\")\n",
        "\n",
        "# ✅ **2. Check Cluster Sizes**\n",
        "print(\"📊 Cluster Sizes:\")\n",
        "print(df1[\"cluster\"].value_counts())\n",
        "\n",
        "# ✅ **3. Compute Inertia (WCSS)**\n",
        "inertia = kmeans.inertia_\n",
        "print(f\"📊 Inertia (WCSS): {inertia}\")\n",
        "\n",
        "# ✅ **4. Compute Average Distance from Centroid**\n",
        "def avg_distance_from_centroid(X, model):\n",
        "    labels = model.labels_\n",
        "    centroids = model.cluster_centers_\n",
        "    total_distance = 0\n",
        "    for i, centroid in enumerate(centroids):\n",
        "        total_distance += np.sum(np.linalg.norm(X[labels == i] - centroid, axis=1))\n",
        "    return total_distance / len(X)\n",
        "\n",
        "X = df1.drop(columns=[\"cluster\"]).values  # Convert to NumPy array\n",
        "avg_distance = avg_distance_from_centroid(X, kmeans)\n",
        "print(f\"📊 Avg Distance from Centroid: {avg_distance}\")"
      ],
      "metadata": {
        "colab": {
          "base_uri": "https://localhost:8080/"
        },
        "id": "9-SajnV9itcU",
        "outputId": "85f02afb-bb06-48da-d7b6-928971017d54"
      },
      "execution_count": 269,
      "outputs": [
        {
          "output_type": "stream",
          "name": "stdout",
          "text": [
            "📊 Silhouette Score: 0.5938085920235069\n",
            "📊 Cluster Sizes:\n",
            "cluster\n",
            "5     11\n",
            "3     11\n",
            "2      9\n",
            "6      8\n",
            "4      8\n",
            "7      7\n",
            "0      7\n",
            "1      7\n",
            "11     5\n",
            "8      4\n",
            "9      4\n",
            "12     4\n",
            "10     3\n",
            "13     2\n",
            "14     2\n",
            "Name: count, dtype: int64\n",
            "📊 Inertia (WCSS): 19.667604617604617\n",
            "📊 Avg Distance from Centroid: 0.3410317907302404\n"
          ]
        }
      ]
    },
    {
      "cell_type": "code",
      "source": [
        "\n",
        "# ✅ **5. Compare Different K Values using Elbow Method**\n",
        "wcss = []\n",
        "silhouette_scores = []\n",
        "K_range = range(2, initial_clusters)\n",
        "\n",
        "for k in K_range:\n",
        "    kmeans_temp = KMeans(n_clusters=k, random_state=42)\n",
        "    clusters = kmeans_temp.fit_predict(X)\n",
        "    wcss.append(kmeans_temp.inertia_)\n",
        "    silhouette_scores.append(silhouette_score(X, clusters))\n",
        "\n",
        "# Plot Elbow Method\n",
        "plt.figure(figsize=(10, 5))\n",
        "plt.plot(K_range, wcss, marker='o', linestyle='-', label='WCSS')\n",
        "plt.xlabel('Number of Clusters (K)')\n",
        "plt.ylabel('Inertia (WCSS)')\n",
        "plt.title('Elbow Method for Optimal K')\n",
        "plt.legend()\n",
        "plt.show()"
      ],
      "metadata": {
        "colab": {
          "base_uri": "https://localhost:8080/",
          "height": 487
        },
        "id": "XhHHJ2dSiyrh",
        "outputId": "61698751-fbee-4477-de77-bd40318498a8"
      },
      "execution_count": 270,
      "outputs": [
        {
          "output_type": "display_data",
          "data": {
            "text/plain": [
              "<Figure size 1000x500 with 1 Axes>"
            ],
            "image/png": "[encoded data removed]"
          },
          "metadata": {}
        }
      ]
    },
    {
      "cell_type": "code",
      "source": [
        "\n",
        "# Plot Silhouette Scores\n",
        "plt.figure(figsize=(10, 5))\n",
        "plt.plot(K_range, silhouette_scores, marker='s', linestyle='-', color='r', label='Silhouette Score')\n",
        "plt.xlabel('Number of Clusters (K)')\n",
        "plt.ylabel('Silhouette Score')\n",
        "plt.title('Silhouette Score for Different K Values')\n",
        "plt.legend()\n",
        "plt.show()"
      ],
      "metadata": {
        "colab": {
          "base_uri": "https://localhost:8080/",
          "height": 487
        },
        "id": "pVBb2D8NizIq",
        "outputId": "cd77f412-cd14-4a29-f7ea-cd3b7b78d347"
      },
      "execution_count": 271,
      "outputs": [
        {
          "output_type": "display_data",
          "data": {
            "text/plain": [
              "<Figure size 1000x500 with 1 Axes>"
            ],
            "image/png": "[encoded data removed]"
          },
          "metadata": {}
        }
      ]
    },
    {
      "cell_type": "markdown",
      "source": [],
      "metadata": {
        "id": "EXJXq_zVZubD"
      }
    },
    {
      "cell_type": "code",
      "source": [
        "import pandas as pd\n",
        "import json\n",
        "import math\n",
        "from collections import defaultdict\n",
        "\n",
        "# Load Data\n",
        "volunteers = pd.read_json(\"volunteers.json\")\n",
        "locations = pd.read_json(\"locations.json\")\n",
        "\n",
        "with open(\"volunteer_teams.json\", \"r\") as f:\n",
        "    volunteer_teams = json.load(f)\n",
        "\n",
        "# Convert volunteer teams into a dictionary (volunteerID -> associationId)\n",
        "volunteer_associations = {}\n",
        "for team in volunteer_teams:\n",
        "    for volunteer in team[\"volunteers\"]:\n",
        "        volunteer_associations[volunteer[\"volunteerID\"]] = team[\"group_name\"]\n",
        "\n",
        "# Extract latitude & longitude\n",
        "volunteers[\"latitude\"] = volunteers[\"coordinates\"].apply(lambda x: x[0])\n",
        "volunteers[\"longitude\"] = volunteers[\"coordinates\"].apply(lambda x: x[1])\n",
        "\n",
        "locations[\"latitude\"] = locations[\"coordinates\"].apply(lambda x: x[0])\n",
        "locations[\"longitude\"] = locations[\"coordinates\"].apply(lambda x: x[1])\n",
        "\n",
        "\n",
        "assigned_volunteers = defaultdict(int)\n",
        "\n",
        "\n",
        "def haversine_distance(coord1, coord2):\n",
        "    R = 6371  # Earth radius in KM\n",
        "    lat1, lon1 = map(math.radians, coord1)\n",
        "    lat2, lon2 = map(math.radians, coord2)\n",
        "\n",
        "    dlat = lat2 - lat1\n",
        "    dlon = lon2 - lon1\n",
        "\n",
        "    a = math.sin(dlat / 2) ** 2 + math.cos(lat1) * math.cos(lat2) * math.sin(dlon / 2) ** 2\n",
        "    c = 2 * math.atan2(math.sqrt(a), math.sqrt(1 - a))\n",
        "\n",
        "    return R * c\n",
        "\n",
        "matches_by_volunteer = {}\n",
        "\n",
        "for _, vol in volunteers.iterrows():\n",
        "    volunteer_id = vol[\"volunteerID\"]\n",
        "    volunteer_matches = []\n",
        "\n",
        "    for _, loc in locations.iterrows():\n",
        "        location_id = loc[\"locationId\"]\n",
        "        max_allowed_volunteers = loc[\"requiredVolunteers\"] + 5\n",
        "\n",
        "\n",
        "        if assigned_volunteers[location_id] >= max_allowed_volunteers:\n",
        "            continue  # Skip this location\n",
        "\n",
        "        distance = haversine_distance((vol[\"latitude\"], vol[\"longitude\"]), (loc[\"latitude\"], loc[\"longitude\"]))\n",
        "\n",
        "        # Find skill matches\n",
        "        skill_match = list(set(vol[\"skills\"]) & set(loc[\"skills\"]))\n",
        "\n",
        "\n",
        "        if skill_match:\n",
        "            volunteer_matches.append({\n",
        "                \"volunteerID\": volunteer_id,\n",
        "                \"locationId\": location_id,\n",
        "                \"associationId\": loc[\"associationId\"],\n",
        "                \"distance_km\": round(distance, 2),\n",
        "                \"skills_matched\": skill_match\n",
        "            })\n",
        "\n",
        "\n",
        "    top_matches = sorted(volunteer_matches, key=lambda x: x[\"distance_km\"])[:4]\n",
        "\n",
        "\n",
        "    final_matches = []\n",
        "    for match in top_matches:\n",
        "        location_id = match[\"locationId\"]\n",
        "        if assigned_volunteers[location_id] < max_allowed_volunteers:\n",
        "            final_matches.append(match)\n",
        "            assigned_volunteers[location_id] += 1\n",
        "\n",
        "    matches_by_volunteer[volunteer_id] = final_matches\n",
        "\n",
        "matches = [match for match_list in matches_by_volunteer.values() for match in match_list]\n",
        "\n",
        "with open(\"matched_volunteers.json\", \"w\") as f:\n",
        "    json.dump(matches, f, indent=4)\n",
        "\n",
        "print(\"✅ Volunteer assignments saved to matched_volunteers.json (top 3-4 offers per volunteer, max limit enforced)\")\n"
      ],
      "metadata": {
        "colab": {
          "base_uri": "https://localhost:8080/"
        },
        "id": "fFJQxsn_kRFT",
        "outputId": "016ee851-1b8d-4ea1-a033-2734264b8ffb"
      },
      "execution_count": 272,
      "outputs": [
        {
          "output_type": "stream",
          "name": "stdout",
          "text": [
            "✅ Volunteer assignments saved to matched_volunteers.json (top 3-4 offers per volunteer, max limit enforced)\n"
          ]
        }
      ]
    },
    {
      "cell_type": "code",
      "source": [
        "import json\n",
        "\n",
        "\n",
        "with open(\"matched_volunteers.json\", \"r\") as f:\n",
        "    matches = json.load(f)\n",
        "\n",
        "\n",
        "grouped_matches = {}\n",
        "\n",
        "for match in matches:\n",
        "    volunteer_id = match[\"volunteerID\"]\n",
        "\n",
        "    if volunteer_id not in grouped_matches:\n",
        "        grouped_matches[volunteer_id] = []\n",
        "\n",
        "    grouped_matches[volunteer_id].append({\n",
        "        \"locationId\": match[\"locationId\"],\n",
        "        \"associationId\": match[\"associationId\"],\n",
        "        \"distance_km\": match[\"distance_km\"],\n",
        "        \"skills_matched\": match[\"skills_matched\"]\n",
        "    })\n",
        "\n",
        "with open(\"grouped_volunteers.json\", \"w\") as f:\n",
        "    json.dump(grouped_matches, f, indent=4)\n",
        "\n",
        "\n",
        "total_volunteers = len(grouped_matches)\n",
        "print(f\"✅ Data grouped by volunteer ID and saved to grouped_volunteers.json\")\n",
        "print(f\"👥 Total unique volunteers matched: {total_volunteers}\")\n",
        "\n",
        "\n",
        "print(\"\\n📊 Match distribution per volunteer:\")\n",
        "for volunteer_id, locations in grouped_matches.items():\n",
        "    print(f\"- Volunteer {volunteer_id} matched with {len(locations)} locations\")\n"
      ],
      "metadata": {
        "colab": {
          "base_uri": "https://localhost:8080/"
        },
        "id": "d8dJCAHKkSvq",
        "outputId": "71104e93-f47f-4ed0-9abb-1edf90e3d8f3"
      },
      "execution_count": 273,
      "outputs": [
        {
          "output_type": "stream",
          "name": "stdout",
          "text": [
            "✅ Data grouped by volunteer ID and saved to grouped_volunteers.json\n",
            "👥 Total unique volunteers matched: 24\n",
            "\n",
            "📊 Match distribution per volunteer:\n",
            "- Volunteer 67d4c5dca1f55e61aa451467 matched with 4 locations\n",
            "- Volunteer 67d4c5e1a1f55e61aa45146a matched with 4 locations\n",
            "- Volunteer 67d4c5e4a1f55e61aa45146d matched with 4 locations\n",
            "- Volunteer 67d4c5e8a1f55e61aa451470 matched with 4 locations\n",
            "- Volunteer 67d4c5f7a1f55e61aa451474 matched with 4 locations\n",
            "- Volunteer 67d4c5fba1f55e61aa451477 matched with 3 locations\n",
            "- Volunteer 67d4c5ffa1f55e61aa45147a matched with 3 locations\n",
            "- Volunteer 67d4c602a1f55e61aa45147d matched with 4 locations\n",
            "- Volunteer 67d4c605a1f55e61aa451480 matched with 4 locations\n",
            "- Volunteer 67d4c609a1f55e61aa451483 matched with 3 locations\n",
            "- Volunteer 67d4cfe0a1f55e61aa451508 matched with 3 locations\n",
            "- Volunteer 67d4cffca1f55e61aa45150b matched with 2 locations\n",
            "- Volunteer 67d4d026a1f55e61aa45150e matched with 4 locations\n",
            "- Volunteer 67d4d17bb46b32a5dc4167c3 matched with 4 locations\n",
            "- Volunteer 67d4d196b46b32a5dc4167c7 matched with 3 locations\n",
            "- Volunteer 67d4d1a0b46b32a5dc4167ca matched with 3 locations\n",
            "- Volunteer 67d4d1a5b46b32a5dc4167cd matched with 3 locations\n",
            "- Volunteer 67d4d1adb46b32a5dc4167d0 matched with 3 locations\n",
            "- Volunteer 67d4d1b3b46b32a5dc4167d3 matched with 3 locations\n",
            "- Volunteer 67d4d1bbb46b32a5dc4167d7 matched with 2 locations\n",
            "- Volunteer 67d4d1c0b46b32a5dc4167da matched with 3 locations\n",
            "- Volunteer 67d4d1e0b46b32a5dc4167dd matched with 2 locations\n",
            "- Volunteer 67d4d1eeb46b32a5dc4167e3 matched with 2 locations\n",
            "- Volunteer 67d4d1fdb46b32a5dc4167ec matched with 1 locations\n"
          ]
        }
      ]
    }
  ]
}